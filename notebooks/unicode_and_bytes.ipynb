{
 "cells": [
  {
   "cell_type": "code",
   "execution_count": 1,
   "id": "4374f1de-9a89-4ed8-aead-a9bd9a8d66b4",
   "metadata": {},
   "outputs": [
    {
     "name": "stdout",
     "output_type": "stream",
     "text": [
      "/mmfs1/gscratch/xlab/alisaliu/hack-tokenizers\n"
     ]
    },
    {
     "name": "stderr",
     "output_type": "stream",
     "text": [
      "/gscratch/cse/alisaliu/miniconda3/envs/playground/lib/python3.10/site-packages/IPython/core/magics/osm.py:417: UserWarning: using dhist requires you to install the `pickleshare` library.\n",
      "  self.shell.db['dhist'] = compress_dhist(dhist)[-100:]\n"
     ]
    }
   ],
   "source": [
    "%cd \"/gscratch/xlab/alisaliu/hack-tokenizers\""
   ]
  },
  {
   "cell_type": "code",
   "execution_count": 2,
   "id": "bd9a8126-7990-4b8c-a50d-d9e36beb9752",
   "metadata": {},
   "outputs": [],
   "source": [
    "from utils import bytes_to_unicode"
   ]
  },
  {
   "cell_type": "code",
   "execution_count": 3,
   "id": "38c5a2ad-e3f9-406f-b6d5-41e2726e2552",
   "metadata": {},
   "outputs": [],
   "source": [
    "B = bytes_to_unicode()\n",
    "unicode_to_bytes = {v: k for k, v in B.items()}"
   ]
  },
  {
   "cell_type": "code",
   "execution_count": 5,
   "id": "15af0940-cd16-4576-97c5-ca55273907b7",
   "metadata": {},
   "outputs": [
    {
     "data": {
      "text/plain": [
       "b'\\xe6\\x88\\x91'"
      ]
     },
     "execution_count": 5,
     "metadata": {},
     "output_type": "execute_result"
    }
   ],
   "source": [
    "bytes([unicode_to_bytes[c] for c in 'æĪĳ'])"
   ]
  },
  {
   "cell_type": "code",
   "execution_count": 6,
   "id": "a12967ae-5de6-441e-a153-5ad6db39abb3",
   "metadata": {},
   "outputs": [
    {
     "data": {
      "text/plain": [
       "b'\\xe6\\x88\\x91'"
      ]
     },
     "execution_count": 6,
     "metadata": {},
     "output_type": "execute_result"
    }
   ],
   "source": [
    "'我'.encode('utf8')"
   ]
  },
  {
   "cell_type": "code",
   "execution_count": 7,
   "id": "1a2a7c4e-a281-40d0-99df-2d7aac742692",
   "metadata": {},
   "outputs": [
    {
     "data": {
      "text/plain": [
       "['æ', 'Ī', 'ĳ']"
      ]
     },
     "execution_count": 7,
     "metadata": {},
     "output_type": "execute_result"
    }
   ],
   "source": [
    "[B[int(c)] for c in [0xe6, 0x88, 0x91]]"
   ]
  },
  {
   "cell_type": "code",
   "execution_count": 8,
   "id": "0bab65cc-b599-47f4-b075-bba6f785b7e6",
   "metadata": {},
   "outputs": [
    {
     "data": {
      "text/plain": [
       "'我'"
      ]
     },
     "execution_count": 8,
     "metadata": {},
     "output_type": "execute_result"
    }
   ],
   "source": [
    "b'\\xe6\\x88\\x91'.decode()"
   ]
  },
  {
   "cell_type": "code",
   "execution_count": null,
   "id": "8858eb20-c6a4-46a8-88e6-981757fa5d35",
   "metadata": {},
   "outputs": [],
   "source": []
  }
 ],
 "metadata": {
  "kernelspec": {
   "display_name": "Python 3 (ipykernel)",
   "language": "python",
   "name": "python3"
  },
  "language_info": {
   "codemirror_mode": {
    "name": "ipython",
    "version": 3
   },
   "file_extension": ".py",
   "mimetype": "text/x-python",
   "name": "python",
   "nbconvert_exporter": "python",
   "pygments_lexer": "ipython3",
   "version": "3.10.13"
  }
 },
 "nbformat": 4,
 "nbformat_minor": 5
}
